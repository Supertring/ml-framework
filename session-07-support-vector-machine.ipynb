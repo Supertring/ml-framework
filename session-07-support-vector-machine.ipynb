{
 "cells": [
  {
   "cell_type": "markdown",
   "id": "da6f45c5",
   "metadata": {},
   "source": [
    "# Support Vector Machine"
   ]
  },
  {
   "cell_type": "code",
   "execution_count": 1,
   "id": "59a83176",
   "metadata": {},
   "outputs": [],
   "source": [
    "from mllab.SVM import SVM"
   ]
  },
  {
   "cell_type": "code",
   "execution_count": 2,
   "id": "215964fc",
   "metadata": {},
   "outputs": [],
   "source": [
    "import numpy as np\n",
    "import pandas as pd\n",
    "from matplotlib import pyplot as plt\n",
    "%matplotlib inline\n",
    "from random import shuffle"
   ]
  },
  {
   "cell_type": "code",
   "execution_count": 3,
   "id": "4fc97a6c",
   "metadata": {},
   "outputs": [],
   "source": [
    "url = \"https://archive.ics.uci.edu/ml/machine-learning-databases/00229/Skin_NonSkin.txt\" \n",
    "data = pd.read_csv(url, header = None, sep='\\t')\n",
    "\n",
    "np.random.seed(1)\n",
    "\n",
    "msk = np.random.rand(len(data)) < 0.8\n",
    "data[msk].to_csv('datasets/train.csv', header=False, index=False)\n",
    "data[~msk].to_csv('datasets/test.csv', header=False, index=False)"
   ]
  },
  {
   "cell_type": "code",
   "execution_count": 4,
   "id": "9ac69333",
   "metadata": {},
   "outputs": [],
   "source": [
    "def data_(path):\n",
    "    with open(path, 'r') as f:\n",
    "        ts = []\n",
    "        xs = []\n",
    "        targets = []\n",
    "        samples = f.readlines()\n",
    "        for t, row in enumerate(samples):\n",
    "            row = row.replace('\\n', '')\n",
    "            row = row.split(',')\n",
    "            target = -1.\n",
    "            if row[3] == '1':\n",
    "                target = 1.\n",
    "            del row[3]\n",
    "            x = [float(c) for c in row] + [1.]  # inputs + bias\n",
    "            ts.append(t)\n",
    "            xs.append(x)\n",
    "            targets.append(target)\n",
    "    return ts, xs, targets"
   ]
  },
  {
   "cell_type": "code",
   "execution_count": 5,
   "id": "2dec4060",
   "metadata": {},
   "outputs": [],
   "source": [
    "t_train, x_train, y_train = data_('datasets/train.csv')\n",
    "t_test, x_test, y_test = data_('datasets/test.csv')"
   ]
  },
  {
   "cell_type": "code",
   "execution_count": 6,
   "id": "e5d614c6",
   "metadata": {},
   "outputs": [],
   "source": [
    "x_train = np.array(x_train)\n",
    "y_train = np.array(y_train)\n",
    "\n",
    "x_test = np.array(x_test)\n",
    "y_test = np.array(y_test)"
   ]
  },
  {
   "cell_type": "markdown",
   "id": "2f345fd4",
   "metadata": {},
   "source": [
    "__Train svm__"
   ]
  },
  {
   "cell_type": "code",
   "execution_count": 7,
   "id": "3b9f535b",
   "metadata": {},
   "outputs": [],
   "source": [
    "svm = SVM(lmbda=1, epoches=50)\n",
    "svm.train(x_train, y_train)"
   ]
  },
  {
   "cell_type": "markdown",
   "id": "0dfb4ece",
   "metadata": {},
   "source": [
    "__Infer in unseen data__"
   ]
  },
  {
   "cell_type": "code",
   "execution_count": 8,
   "id": "dc912d38",
   "metadata": {},
   "outputs": [],
   "source": [
    "y_pred = svm.infer(x_test)"
   ]
  },
  {
   "cell_type": "markdown",
   "id": "2abf740c",
   "metadata": {},
   "source": [
    "__accuracy__"
   ]
  },
  {
   "cell_type": "code",
   "execution_count": 10,
   "id": "8cbc6f12",
   "metadata": {},
   "outputs": [
    {
     "name": "stdout",
     "output_type": "stream",
     "text": [
      "Accuracy: 79.26 %\n"
     ]
    }
   ],
   "source": [
    "from sklearn import metrics                                              \n",
    "                                                                         \n",
    "print('Accuracy: %2.2f %%' % (100. * metrics.accuracy_score(y_test, y_pred))) "
   ]
  },
  {
   "cell_type": "code",
   "execution_count": null,
   "id": "55763c6b",
   "metadata": {},
   "outputs": [],
   "source": []
  }
 ],
 "metadata": {
  "kernelspec": {
   "display_name": "Python 3",
   "language": "python",
   "name": "python3"
  },
  "language_info": {
   "codemirror_mode": {
    "name": "ipython",
    "version": 3
   },
   "file_extension": ".py",
   "mimetype": "text/x-python",
   "name": "python",
   "nbconvert_exporter": "python",
   "pygments_lexer": "ipython3",
   "version": "3.8.5"
  }
 },
 "nbformat": 4,
 "nbformat_minor": 5
}
