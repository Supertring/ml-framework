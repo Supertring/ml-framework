{
 "cells": [
  {
   "cell_type": "markdown",
   "id": "d0830d11",
   "metadata": {},
   "source": [
    "# Regression problem for Iris datasets"
   ]
  },
  {
   "cell_type": "code",
   "execution_count": 225,
   "id": "c0ebae03",
   "metadata": {},
   "outputs": [],
   "source": [
    "import pandas as pd\n",
    "import numpy as np\n",
    "import matplotlib.pyplot as plt\n",
    "from mllab.preprocessing import normalize as nm\n",
    "from mllab.LinearRegression import LinearRegression"
   ]
  },
  {
   "cell_type": "code",
   "execution_count": 226,
   "id": "d6c4d330",
   "metadata": {},
   "outputs": [],
   "source": [
    "iris = pd.read_csv('datasets/classification_iris.csv')"
   ]
  },
  {
   "cell_type": "code",
   "execution_count": 227,
   "id": "3715c325",
   "metadata": {},
   "outputs": [
    {
     "data": {
      "text/html": [
       "<div>\n",
       "<style scoped>\n",
       "    .dataframe tbody tr th:only-of-type {\n",
       "        vertical-align: middle;\n",
       "    }\n",
       "\n",
       "    .dataframe tbody tr th {\n",
       "        vertical-align: top;\n",
       "    }\n",
       "\n",
       "    .dataframe thead th {\n",
       "        text-align: right;\n",
       "    }\n",
       "</style>\n",
       "<table border=\"1\" class=\"dataframe\">\n",
       "  <thead>\n",
       "    <tr style=\"text-align: right;\">\n",
       "      <th></th>\n",
       "      <th>Id</th>\n",
       "      <th>SepalLengthCm</th>\n",
       "      <th>SepalWidthCm</th>\n",
       "      <th>PetalLengthCm</th>\n",
       "      <th>PetalWidthCm</th>\n",
       "      <th>Species</th>\n",
       "    </tr>\n",
       "  </thead>\n",
       "  <tbody>\n",
       "    <tr>\n",
       "      <th>0</th>\n",
       "      <td>1</td>\n",
       "      <td>5.1</td>\n",
       "      <td>3.5</td>\n",
       "      <td>1.4</td>\n",
       "      <td>0.2</td>\n",
       "      <td>Iris-setosa</td>\n",
       "    </tr>\n",
       "    <tr>\n",
       "      <th>1</th>\n",
       "      <td>2</td>\n",
       "      <td>4.9</td>\n",
       "      <td>3.0</td>\n",
       "      <td>1.4</td>\n",
       "      <td>0.2</td>\n",
       "      <td>Iris-setosa</td>\n",
       "    </tr>\n",
       "    <tr>\n",
       "      <th>2</th>\n",
       "      <td>3</td>\n",
       "      <td>4.7</td>\n",
       "      <td>3.2</td>\n",
       "      <td>1.3</td>\n",
       "      <td>0.2</td>\n",
       "      <td>Iris-setosa</td>\n",
       "    </tr>\n",
       "    <tr>\n",
       "      <th>3</th>\n",
       "      <td>4</td>\n",
       "      <td>4.6</td>\n",
       "      <td>3.1</td>\n",
       "      <td>1.5</td>\n",
       "      <td>0.2</td>\n",
       "      <td>Iris-setosa</td>\n",
       "    </tr>\n",
       "    <tr>\n",
       "      <th>4</th>\n",
       "      <td>5</td>\n",
       "      <td>5.0</td>\n",
       "      <td>3.6</td>\n",
       "      <td>1.4</td>\n",
       "      <td>0.2</td>\n",
       "      <td>Iris-setosa</td>\n",
       "    </tr>\n",
       "  </tbody>\n",
       "</table>\n",
       "</div>"
      ],
      "text/plain": [
       "   Id  SepalLengthCm  SepalWidthCm  PetalLengthCm  PetalWidthCm      Species\n",
       "0   1            5.1           3.5            1.4           0.2  Iris-setosa\n",
       "1   2            4.9           3.0            1.4           0.2  Iris-setosa\n",
       "2   3            4.7           3.2            1.3           0.2  Iris-setosa\n",
       "3   4            4.6           3.1            1.5           0.2  Iris-setosa\n",
       "4   5            5.0           3.6            1.4           0.2  Iris-setosa"
      ]
     },
     "execution_count": 227,
     "metadata": {},
     "output_type": "execute_result"
    }
   ],
   "source": [
    "iris.head()"
   ]
  },
  {
   "cell_type": "markdown",
   "id": "e994a468",
   "metadata": {},
   "source": [
    "__x input features__\n",
    "   * SepalLengthCm\n",
    "   * SepalWidthCm\n",
    "   * PetalLengthCm\n",
    "\n",
    "__y__\n",
    "   * PetalWidthCm"
   ]
  },
  {
   "cell_type": "code",
   "execution_count": 228,
   "id": "71aaceeb",
   "metadata": {},
   "outputs": [],
   "source": [
    "irisx = iris[['SepalLengthCm','SepalWidthCm','PetalLengthCm']]\n",
    "irisy = iris[['PetalWidthCm']]"
   ]
  },
  {
   "cell_type": "code",
   "execution_count": 229,
   "id": "310b2cd9",
   "metadata": {
    "scrolled": false
   },
   "outputs": [],
   "source": [
    "irisx_norm = nm(irisx)\n",
    "irisy_norm = nm(irisy)"
   ]
  },
  {
   "cell_type": "code",
   "execution_count": 230,
   "id": "743fa843",
   "metadata": {},
   "outputs": [],
   "source": [
    "irisx_train = irisx_norm[:100]\n",
    "irisy_train = irisy_norm[:100]\n",
    "\n",
    "irisx_test = irisx_norm[100:]\n",
    "irisy_test = irisy_norm[100:]"
   ]
  },
  {
   "cell_type": "markdown",
   "id": "b84b8390",
   "metadata": {},
   "source": [
    "   * __Initialize__\n",
    "   * __train__\n",
    "   * __Infer LinearRegression__\n",
    "   \n",
    "   __Training input x and y are mandatory__\n",
    "* __optional paramter__\n",
    "    * lr....................: default : 1e-3\n",
    "    * n_iter........: default : 100\n",
    "    \n",
    "\n",
    "* __returns:  weight__"
   ]
  },
  {
   "cell_type": "code",
   "execution_count": 231,
   "id": "a23667c8",
   "metadata": {},
   "outputs": [],
   "source": [
    "#initialization\n",
    "lreg = LinearRegression()\n",
    "#train\n",
    "lreg.train(irisx_norm, irisy_norm, lr=0.0001, n_iter=10)\n",
    "#infera\n",
    "_w = lreg.infer()"
   ]
  },
  {
   "cell_type": "code",
   "execution_count": 232,
   "id": "84461e7f",
   "metadata": {},
   "outputs": [
    {
     "data": {
      "text/plain": [
       "array([[0.11167401, 0.19700126, 0.35407654]])"
      ]
     },
     "execution_count": 232,
     "metadata": {},
     "output_type": "execute_result"
    }
   ],
   "source": [
    "#weight values for each feaures\n",
    "_w"
   ]
  },
  {
   "cell_type": "code",
   "execution_count": 233,
   "id": "8cff4ab7",
   "metadata": {},
   "outputs": [],
   "source": [
    "rows, columns = _w.shape"
   ]
  },
  {
   "cell_type": "code",
   "execution_count": 234,
   "id": "faa5bc15",
   "metadata": {},
   "outputs": [],
   "source": [
    "max_value = np.max(irisx['PetalLengthCm'])\n",
    "min_value = np.min(irisx['PetalLengthCm'])\n",
    "x_input = np.linspace(min_value, max_value, columns)"
   ]
  },
  {
   "cell_type": "code",
   "execution_count": 235,
   "id": "dc44031f",
   "metadata": {},
   "outputs": [],
   "source": [
    "def y_values():\n",
    "    for i in range(columns):\n",
    "        y = np.linspace(min_value,max_value,columns) * _w[0][i]\n",
    "    return y"
   ]
  },
  {
   "cell_type": "code",
   "execution_count": 236,
   "id": "3e9b7859",
   "metadata": {},
   "outputs": [],
   "source": [
    "y_input = y_values()"
   ]
  },
  {
   "cell_type": "code",
   "execution_count": 237,
   "id": "f552a172",
   "metadata": {},
   "outputs": [
    {
     "data": {
      "text/plain": [
       "array([0.35407654, 1.39860232, 2.44312811])"
      ]
     },
     "execution_count": 237,
     "metadata": {},
     "output_type": "execute_result"
    }
   ],
   "source": [
    "y_input"
   ]
  },
  {
   "cell_type": "code",
   "execution_count": 238,
   "id": "4b4adf12",
   "metadata": {},
   "outputs": [
    {
     "data": {
      "image/png": "[encoded data removed]",
      "text/plain": [
       "<Figure size 432x288 with 1 Axes>"
      ]
     },
     "metadata": {
      "needs_background": "light"
     },
     "output_type": "display_data"
    }
   ],
   "source": [
    "plt.plot(irisx['PetalLengthCm'],irisy['PetalWidthCm'],'o')\n",
    "plt.plot(x_input, y_input)\n",
    "plt.xlabel('petal Lenght in cm')\n",
    "plt.ylabel('petal width in cm')\n",
    "plt.show()"
   ]
  },
  {
   "cell_type": "code",
   "execution_count": null,
   "id": "363eef29",
   "metadata": {},
   "outputs": [],
   "source": []
  },
  {
   "cell_type": "code",
   "execution_count": null,
   "id": "84a71bb6",
   "metadata": {},
   "outputs": [],
   "source": []
  }
 ],
 "metadata": {
  "kernelspec": {
   "display_name": "Python 3",
   "language": "python",
   "name": "python3"
  },
  "language_info": {
   "codemirror_mode": {
    "name": "ipython",
    "version": 3
   },
   "file_extension": ".py",
   "mimetype": "text/x-python",
   "name": "python",
   "nbconvert_exporter": "python",
   "pygments_lexer": "ipython3",
   "version": "3.8.5"
  }
 },
 "nbformat": 4,
 "nbformat_minor": 5
}
